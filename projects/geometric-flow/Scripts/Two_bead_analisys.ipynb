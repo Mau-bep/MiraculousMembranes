{
 "cells": [
  {
   "cell_type": "code",
   "execution_count": 12,
   "metadata": {},
   "outputs": [],
   "source": [
    "import matplotlib.pyplot as plt \n",
    "import numpy as np \n",
    "import pandas as pd \n",
    "import os\n",
    "import json "
   ]
  },
  {
   "cell_type": "code",
   "execution_count": null,
   "metadata": {},
   "outputs": [],
   "source": [
    "# Small excursion to load jsonfiles\n",
    "\n",
    "# with open('../Config_files/Wrapping_two_0.3_strg_250_radius_0.3_KA_15_KB_10.json', 'r') as file:\n",
    "#     data = json.load(file)\n",
    "# data['Beads'][0]['Pos']\n",
    "# data['Beads'][1]['Pos']"
   ]
  },
  {
   "cell_type": "markdown",
   "metadata": {},
   "source": [
    "Now i want to check all the directories in the folder"
   ]
  },
  {
   "cell_type": "code",
   "execution_count": 7,
   "metadata": {},
   "outputs": [
    {
     "data": {
      "text/plain": [
       "'/home/mrojasve/Documents/DDG/MiraculousMembranes/projects/geometric-flow/Scripts'"
      ]
     },
     "execution_count": 7,
     "metadata": {},
     "output_type": "execute_result"
    }
   ],
   "source": [
    "current_dir = os.getcwd()\n",
    "current_dir\n",
    "\n"
   ]
  },
  {
   "cell_type": "code",
   "execution_count": 20,
   "metadata": {},
   "outputs": [],
   "source": [
    "Results_dir = current_dir+'/../Results/'\n",
    "Sims_dir = Results_dir + 'Two_beads_with_switch_manual/'\n"
   ]
  },
  {
   "cell_type": "markdown",
   "metadata": {},
   "source": [
    "Now we have the directory to start finally our processing\n"
   ]
  },
  {
   "cell_type": "code",
   "execution_count": 11,
   "metadata": {},
   "outputs": [
    {
     "name": "stdout",
     "output_type": "stream",
     "text": [
      "The directories are :\n",
      "\n",
      "1\n",
      "11\n",
      "2\n"
     ]
    }
   ],
   "source": [
    "dir_list = os.listdir(Sims_dir)\n",
    "\n",
    "print(\"The directories are :\\n\")\n",
    "for i in dir_list:\n",
    "    print(\"{}\".format(i))"
   ]
  },
  {
   "cell_type": "code",
   "execution_count": 29,
   "metadata": {},
   "outputs": [],
   "source": [
    "Thetas = []\n",
    "E_Bead_1 = []\n",
    "E_Bead_2 = []\n",
    "E_Bend = []\n",
    "E_Sur = []"
   ]
  },
  {
   "cell_type": "code",
   "execution_count": 30,
   "metadata": {},
   "outputs": [
    {
     "name": "stdout",
     "output_type": "stream",
     "text": [
      "/home/mrojasve/Documents/DDG/MiraculousMembranes/projects/geometric-flow/Scripts/../Results/Two_beads_with_switch_manual/1/Output_data.txt\n",
      "angles are 0.3 and -0.3\n",
      "/home/mrojasve/Documents/DDG/MiraculousMembranes/projects/geometric-flow/Scripts/../Results/Two_beads_with_switch_manual/11/Output_data.txt\n",
      "angles are 1.2 and -1.2\n",
      "/home/mrojasve/Documents/DDG/MiraculousMembranes/projects/geometric-flow/Scripts/../Results/Two_beads_with_switch_manual/2/Output_data.txt\n",
      "angles are 0.35000000000000003 and -0.35000000000000003\n"
     ]
    }
   ],
   "source": [
    "\n",
    "\n",
    "for i in dir_list:\n",
    "    Simulation = Sims_dir+i+\"/\"\n",
    "    # I need to read the output data\n",
    "    Output_dir = Simulation+\"Output_data.txt\"\n",
    "    print(Output_dir)\n",
    "    Sim_data = np.loadtxt(Output_dir,skiprows=1,usecols=[3,4,5,6,7,8])\n",
    "    # print(Sim_data)\n",
    "    json_data = json.load(open(Simulation+\"Input_file.json\"))\n",
    "    Pos1 = json_data['Beads'][0]['Pos']\n",
    "    Pos2 = json_data['Beads'][1]['Pos']\n",
    "    # print(Pos1[0])\n",
    "    theta = np.arctan2(Pos1[1],Pos1[0])\n",
    "    theta2 = np.arctan2(Pos2[1],Pos2[0])\n",
    "    print(\"angles are {} and {}\".format(theta,theta2))\n",
    "    # I have the angle Now i want the final ENergy for each state\n",
    "    Thetas.append(theta)\n",
    "    E_Bend.append(Sim_data[-1,0])\n",
    "    E_Sur.append(Sim_data[-1,1])\n",
    "    E_Bead_1.append(Sim_data[-1,3])\n",
    "    E_Bead_2.append(Sim_data[-1,4])\n",
    "    \n",
    "\n"
   ]
  },
  {
   "cell_type": "code",
   "execution_count": 36,
   "metadata": {},
   "outputs": [
    {
     "data": {
      "text/plain": [
       "<matplotlib.legend.Legend at 0x7f12a80dde50>"
      ]
     },
     "execution_count": 36,
     "metadata": {},
     "output_type": "execute_result"
    },
    {
     "data": {
      "image/png": "[encoded data removed]",
      "text/plain": [
       "<Figure size 640x480 with 1 Axes>"
      ]
     },
     "metadata": {},
     "output_type": "display_data"
    }
   ],
   "source": [
    "plt.plot(Thetas,E_Bend,'o',label='Bending Energy')\n",
    "# plt.plot(Thetas,E_Sur,'o',label='Surface Energy')\n",
    "# plt.plot(Thetas,E_Bead_1,'o',label='Bead 1 Energy')\n",
    "# plt.plot(Thetas,E_Bead_2,'o',label='Bead 2 Energy')\n",
    "plt.legend()"
   ]
  },
  {
   "cell_type": "code",
   "execution_count": 37,
   "metadata": {},
   "outputs": [],
   "source": [
    "# Last step is to export the Energies to a text file\n",
    "Energies = np.array([Thetas,E_Bend,E_Sur,E_Bead_1,E_Bead_2])\n",
    "\n",
    "Processed_Energy_data_dir = Results_dir + 'Processed_data/'\n",
    "if not os.path.exists(Processed_Energy_data_dir):\n",
    "    os.makedirs(Processed_Energy_data_dir)\n",
    "Energy_data_file = Processed_Energy_data_dir + 'Two_beads_with_switch_manual_energy_data.txt'\n",
    "np.savetxt(Energy_data_file,Energies.T,header=\"Theta\\tE_Bend\\tE_Sur\\tE_Bead_1\\tE_Bead_2\")\n"
   ]
  },
  {
   "cell_type": "code",
   "execution_count": null,
   "metadata": {},
   "outputs": [],
   "source": []
  }
 ],
 "metadata": {
  "kernelspec": {
   "display_name": "CustomKernel",
   "language": "python",
   "name": "myenvig"
  },
  "language_info": {
   "codemirror_mode": {
    "name": "ipython",
    "version": 3
   },
   "file_extension": ".py",
   "mimetype": "text/x-python",
   "name": "python",
   "nbconvert_exporter": "python",
   "pygments_lexer": "ipython3",
   "version": "3.13.7"
  }
 },
 "nbformat": 4,
 "nbformat_minor": 2
}
